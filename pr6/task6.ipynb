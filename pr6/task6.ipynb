{
 "cells": [
  {
   "cell_type": "code",
   "execution_count": 208,
   "metadata": {
    "collapsed": true
   },
   "outputs": [],
   "source": [
    "import matplotlib.pyplot as plt\n",
    "import numpy as np\n",
    "import pandas as pd"
   ]
  },
  {
   "cell_type": "markdown",
   "source": [
    "# 1. Загрузить данные из файла “ECDCCases.csv”."
   ],
   "metadata": {
    "collapsed": false
   }
  },
  {
   "cell_type": "code",
   "execution_count": 209,
   "outputs": [
    {
     "name": "stdout",
     "output_type": "stream",
     "text": [
      "size: 61904\n"
     ]
    },
    {
     "data": {
      "text/plain": "      dateRep  day  month  year  cases  deaths countriesAndTerritories geoId  \\\n0  14/12/2020   14     12  2020    746       6             Afghanistan    AF   \n1  13/12/2020   13     12  2020    298       9             Afghanistan    AF   \n2  12/12/2020   12     12  2020    113      11             Afghanistan    AF   \n3  12/12/2020   12     12  2020    113      11             Afghanistan    AF   \n4  11/12/2020   11     12  2020     63      10             Afghanistan    AF   \n\n  countryterritoryCode  popData2019 continentExp  \\\n0                  AFG   38041757.0         Asia   \n1                  AFG   38041757.0         Asia   \n2                  AFG   38041757.0         Asia   \n3                  AFG   38041757.0         Asia   \n4                  AFG   38041757.0         Asia   \n\n   Cumulative_number_for_14_days_of_COVID-19_cases_per_100000  \n0                                           9.013779           \n1                                           7.052776           \n2                                           6.868768           \n3                                           6.868768           \n4                                           7.134266           ",
      "text/html": "<div>\n<style scoped>\n    .dataframe tbody tr th:only-of-type {\n        vertical-align: middle;\n    }\n\n    .dataframe tbody tr th {\n        vertical-align: top;\n    }\n\n    .dataframe thead th {\n        text-align: right;\n    }\n</style>\n<table border=\"1\" class=\"dataframe\">\n  <thead>\n    <tr style=\"text-align: right;\">\n      <th></th>\n      <th>dateRep</th>\n      <th>day</th>\n      <th>month</th>\n      <th>year</th>\n      <th>cases</th>\n      <th>deaths</th>\n      <th>countriesAndTerritories</th>\n      <th>geoId</th>\n      <th>countryterritoryCode</th>\n      <th>popData2019</th>\n      <th>continentExp</th>\n      <th>Cumulative_number_for_14_days_of_COVID-19_cases_per_100000</th>\n    </tr>\n  </thead>\n  <tbody>\n    <tr>\n      <th>0</th>\n      <td>14/12/2020</td>\n      <td>14</td>\n      <td>12</td>\n      <td>2020</td>\n      <td>746</td>\n      <td>6</td>\n      <td>Afghanistan</td>\n      <td>AF</td>\n      <td>AFG</td>\n      <td>38041757.0</td>\n      <td>Asia</td>\n      <td>9.013779</td>\n    </tr>\n    <tr>\n      <th>1</th>\n      <td>13/12/2020</td>\n      <td>13</td>\n      <td>12</td>\n      <td>2020</td>\n      <td>298</td>\n      <td>9</td>\n      <td>Afghanistan</td>\n      <td>AF</td>\n      <td>AFG</td>\n      <td>38041757.0</td>\n      <td>Asia</td>\n      <td>7.052776</td>\n    </tr>\n    <tr>\n      <th>2</th>\n      <td>12/12/2020</td>\n      <td>12</td>\n      <td>12</td>\n      <td>2020</td>\n      <td>113</td>\n      <td>11</td>\n      <td>Afghanistan</td>\n      <td>AF</td>\n      <td>AFG</td>\n      <td>38041757.0</td>\n      <td>Asia</td>\n      <td>6.868768</td>\n    </tr>\n    <tr>\n      <th>3</th>\n      <td>12/12/2020</td>\n      <td>12</td>\n      <td>12</td>\n      <td>2020</td>\n      <td>113</td>\n      <td>11</td>\n      <td>Afghanistan</td>\n      <td>AF</td>\n      <td>AFG</td>\n      <td>38041757.0</td>\n      <td>Asia</td>\n      <td>6.868768</td>\n    </tr>\n    <tr>\n      <th>4</th>\n      <td>11/12/2020</td>\n      <td>11</td>\n      <td>12</td>\n      <td>2020</td>\n      <td>63</td>\n      <td>10</td>\n      <td>Afghanistan</td>\n      <td>AF</td>\n      <td>AFG</td>\n      <td>38041757.0</td>\n      <td>Asia</td>\n      <td>7.134266</td>\n    </tr>\n  </tbody>\n</table>\n</div>"
     },
     "execution_count": 209,
     "metadata": {},
     "output_type": "execute_result"
    }
   ],
   "source": [
    "data = pd.read_csv('ECDCCases.csv', sep=',')\n",
    "print('size:', data.shape[0])\n",
    "data.head()"
   ],
   "metadata": {
    "collapsed": false
   }
  },
  {
   "cell_type": "markdown",
   "source": [
    "# 2. Проверить в данных наличие пропущенных значений.\n",
    "Вывести количество пропущенных значений в процентах. Удалить два признака, в которых больше всех пропущенных значений.\n",
    "Для оставшихся признаков обработать пропуски: для категориального признака использовать заполнение\n",
    "значением по умолчанию (например, «other»), для числового признака использовать заполнение медианным значением.\n",
    "Показать, что пропусков больше в данных нет."
   ],
   "metadata": {
    "collapsed": false
   }
  },
  {
   "cell_type": "code",
   "execution_count": 210,
   "outputs": [
    {
     "data": {
      "text/plain": "dateRep                                                          0\nday                                                              0\nmonth                                                            0\nyear                                                             0\ncases                                                            0\ndeaths                                                           0\ncountriesAndTerritories                                          0\ngeoId                                                          275\ncountryterritoryCode                                           123\npopData2019                                                    123\ncontinentExp                                                     0\nCumulative_number_for_14_days_of_COVID-19_cases_per_100000    2879\ndtype: int64"
     },
     "execution_count": 210,
     "metadata": {},
     "output_type": "execute_result"
    }
   ],
   "source": [
    "data.isna().sum()"
   ],
   "metadata": {
    "collapsed": false
   }
  },
  {
   "cell_type": "code",
   "execution_count": 227,
   "outputs": [],
   "source": [
    "def missing_pers(data_: pd.DataFrame):\n",
    "    res_ = []\n",
    "    for column in data_.columns:\n",
    "        missing = np.mean(data_[column].isna()*100)\n",
    "        res_.append((column, round(missing, 1)))\n",
    "    return sorted(res_, key=lambda item: item[1], reverse=True)"
   ],
   "metadata": {
    "collapsed": false
   }
  },
  {
   "cell_type": "code",
   "execution_count": 228,
   "outputs": [],
   "source": [
    "def show_missed_pers(data_: pd.DataFrame):\n",
    "    res_ = missing_pers(data_)\n",
    "    for item in res_:\n",
    "        print(f'{item[0]} : {item[1]}%')"
   ],
   "metadata": {
    "collapsed": false
   }
  },
  {
   "cell_type": "code",
   "execution_count": 229,
   "outputs": [
    {
     "name": "stdout",
     "output_type": "stream",
     "text": [
      "Cumulative_number_for_14_days_of_COVID-19_cases_per_100000 : 4.7%\n",
      "geoId : 0.4%\n",
      "countryterritoryCode : 0.2%\n",
      "popData2019 : 0.2%\n",
      "dateRep : 0.0%\n",
      "day : 0.0%\n",
      "month : 0.0%\n",
      "year : 0.0%\n",
      "cases : 0.0%\n",
      "deaths : 0.0%\n",
      "countriesAndTerritories : 0.0%\n",
      "continentExp : 0.0%\n"
     ]
    }
   ],
   "source": [
    "show_missed_pers(data)"
   ],
   "metadata": {
    "collapsed": false
   }
  },
  {
   "cell_type": "code",
   "execution_count": 214,
   "outputs": [
    {
     "data": {
      "text/plain": "      dateRep  day  month  year  cases  deaths countriesAndTerritories  \\\n0  14/12/2020   14     12  2020    746       6             Afghanistan   \n1  13/12/2020   13     12  2020    298       9             Afghanistan   \n2  12/12/2020   12     12  2020    113      11             Afghanistan   \n3  12/12/2020   12     12  2020    113      11             Afghanistan   \n4  11/12/2020   11     12  2020     63      10             Afghanistan   \n\n  countryterritoryCode  popData2019 continentExp  \n0                  AFG   38041757.0         Asia  \n1                  AFG   38041757.0         Asia  \n2                  AFG   38041757.0         Asia  \n3                  AFG   38041757.0         Asia  \n4                  AFG   38041757.0         Asia  ",
      "text/html": "<div>\n<style scoped>\n    .dataframe tbody tr th:only-of-type {\n        vertical-align: middle;\n    }\n\n    .dataframe tbody tr th {\n        vertical-align: top;\n    }\n\n    .dataframe thead th {\n        text-align: right;\n    }\n</style>\n<table border=\"1\" class=\"dataframe\">\n  <thead>\n    <tr style=\"text-align: right;\">\n      <th></th>\n      <th>dateRep</th>\n      <th>day</th>\n      <th>month</th>\n      <th>year</th>\n      <th>cases</th>\n      <th>deaths</th>\n      <th>countriesAndTerritories</th>\n      <th>countryterritoryCode</th>\n      <th>popData2019</th>\n      <th>continentExp</th>\n    </tr>\n  </thead>\n  <tbody>\n    <tr>\n      <th>0</th>\n      <td>14/12/2020</td>\n      <td>14</td>\n      <td>12</td>\n      <td>2020</td>\n      <td>746</td>\n      <td>6</td>\n      <td>Afghanistan</td>\n      <td>AFG</td>\n      <td>38041757.0</td>\n      <td>Asia</td>\n    </tr>\n    <tr>\n      <th>1</th>\n      <td>13/12/2020</td>\n      <td>13</td>\n      <td>12</td>\n      <td>2020</td>\n      <td>298</td>\n      <td>9</td>\n      <td>Afghanistan</td>\n      <td>AFG</td>\n      <td>38041757.0</td>\n      <td>Asia</td>\n    </tr>\n    <tr>\n      <th>2</th>\n      <td>12/12/2020</td>\n      <td>12</td>\n      <td>12</td>\n      <td>2020</td>\n      <td>113</td>\n      <td>11</td>\n      <td>Afghanistan</td>\n      <td>AFG</td>\n      <td>38041757.0</td>\n      <td>Asia</td>\n    </tr>\n    <tr>\n      <th>3</th>\n      <td>12/12/2020</td>\n      <td>12</td>\n      <td>12</td>\n      <td>2020</td>\n      <td>113</td>\n      <td>11</td>\n      <td>Afghanistan</td>\n      <td>AFG</td>\n      <td>38041757.0</td>\n      <td>Asia</td>\n    </tr>\n    <tr>\n      <th>4</th>\n      <td>11/12/2020</td>\n      <td>11</td>\n      <td>12</td>\n      <td>2020</td>\n      <td>63</td>\n      <td>10</td>\n      <td>Afghanistan</td>\n      <td>AFG</td>\n      <td>38041757.0</td>\n      <td>Asia</td>\n    </tr>\n  </tbody>\n</table>\n</div>"
     },
     "execution_count": 214,
     "metadata": {},
     "output_type": "execute_result"
    }
   ],
   "source": [
    "cropped_data = data.drop([item[0] for item in missing_pers(data)[:2]], axis=1)\n",
    "cropped_data.head()"
   ],
   "metadata": {
    "collapsed": false
   }
  },
  {
   "cell_type": "code",
   "execution_count": 215,
   "outputs": [
    {
     "data": {
      "text/plain": "dateRep                    0\nday                        0\nmonth                      0\nyear                       0\ncases                      0\ndeaths                     0\ncountriesAndTerritories    0\ncountryterritoryCode       0\npopData2019                0\ncontinentExp               0\ndtype: int64"
     },
     "execution_count": 215,
     "metadata": {},
     "output_type": "execute_result"
    }
   ],
   "source": [
    "for col_name, type_ in cropped_data.dtypes.items():\n",
    "    if type_.name == 'object':\n",
    "        cropped_data[col_name].fillna('other', inplace=True)\n",
    "    else:\n",
    "        cropped_data[col_name].fillna(cropped_data[col_name].mean(), inplace=True)\n",
    "cropped_data.isna().sum()"
   ],
   "metadata": {
    "collapsed": false
   }
  },
  {
   "cell_type": "markdown",
   "source": [
    "# 3. Посмотреть статистику по данным, используя describe().\n",
    "Сделать выводы о том, какие признаки содержат выбросы. Посмотреть, для каких\n",
    "стран количество смертей в день превысило 3000 и сколько таких дней было."
   ],
   "metadata": {
    "collapsed": false
   }
  },
  {
   "cell_type": "code",
   "execution_count": 216,
   "outputs": [
    {
     "data": {
      "text/plain": "                day         month          year          cases        deaths  \\\ncount  61904.000000  61904.000000  61904.000000   61904.000000  61904.000000   \nmean      15.629232      7.067104   2019.998918    1155.079026     26.053987   \nstd        8.841624      2.954816      0.032881    6779.010824    131.222948   \nmin        1.000000      1.000000   2019.000000   -8261.000000  -1918.000000   \n25%        8.000000      5.000000   2020.000000       0.000000      0.000000   \n50%       15.000000      7.000000   2020.000000      15.000000      0.000000   \n75%       23.000000     10.000000   2020.000000     273.000000      4.000000   \nmax       31.000000     12.000000   2020.000000  234633.000000   4928.000000   \n\n        popData2019  \ncount  6.190400e+04  \nmean   4.098628e+07  \nstd    1.529724e+08  \nmin    8.150000e+02  \n25%    1.324820e+06  \n50%    7.813207e+06  \n75%    2.860872e+07  \nmax    1.433784e+09  ",
      "text/html": "<div>\n<style scoped>\n    .dataframe tbody tr th:only-of-type {\n        vertical-align: middle;\n    }\n\n    .dataframe tbody tr th {\n        vertical-align: top;\n    }\n\n    .dataframe thead th {\n        text-align: right;\n    }\n</style>\n<table border=\"1\" class=\"dataframe\">\n  <thead>\n    <tr style=\"text-align: right;\">\n      <th></th>\n      <th>day</th>\n      <th>month</th>\n      <th>year</th>\n      <th>cases</th>\n      <th>deaths</th>\n      <th>popData2019</th>\n    </tr>\n  </thead>\n  <tbody>\n    <tr>\n      <th>count</th>\n      <td>61904.000000</td>\n      <td>61904.000000</td>\n      <td>61904.000000</td>\n      <td>61904.000000</td>\n      <td>61904.000000</td>\n      <td>6.190400e+04</td>\n    </tr>\n    <tr>\n      <th>mean</th>\n      <td>15.629232</td>\n      <td>7.067104</td>\n      <td>2019.998918</td>\n      <td>1155.079026</td>\n      <td>26.053987</td>\n      <td>4.098628e+07</td>\n    </tr>\n    <tr>\n      <th>std</th>\n      <td>8.841624</td>\n      <td>2.954816</td>\n      <td>0.032881</td>\n      <td>6779.010824</td>\n      <td>131.222948</td>\n      <td>1.529724e+08</td>\n    </tr>\n    <tr>\n      <th>min</th>\n      <td>1.000000</td>\n      <td>1.000000</td>\n      <td>2019.000000</td>\n      <td>-8261.000000</td>\n      <td>-1918.000000</td>\n      <td>8.150000e+02</td>\n    </tr>\n    <tr>\n      <th>25%</th>\n      <td>8.000000</td>\n      <td>5.000000</td>\n      <td>2020.000000</td>\n      <td>0.000000</td>\n      <td>0.000000</td>\n      <td>1.324820e+06</td>\n    </tr>\n    <tr>\n      <th>50%</th>\n      <td>15.000000</td>\n      <td>7.000000</td>\n      <td>2020.000000</td>\n      <td>15.000000</td>\n      <td>0.000000</td>\n      <td>7.813207e+06</td>\n    </tr>\n    <tr>\n      <th>75%</th>\n      <td>23.000000</td>\n      <td>10.000000</td>\n      <td>2020.000000</td>\n      <td>273.000000</td>\n      <td>4.000000</td>\n      <td>2.860872e+07</td>\n    </tr>\n    <tr>\n      <th>max</th>\n      <td>31.000000</td>\n      <td>12.000000</td>\n      <td>2020.000000</td>\n      <td>234633.000000</td>\n      <td>4928.000000</td>\n      <td>1.433784e+09</td>\n    </tr>\n  </tbody>\n</table>\n</div>"
     },
     "execution_count": 216,
     "metadata": {},
     "output_type": "execute_result"
    }
   ],
   "source": [
    "cropped_data.describe()"
   ],
   "metadata": {
    "collapsed": false
   }
  },
  {
   "cell_type": "code",
   "execution_count": 217,
   "outputs": [
    {
     "name": "stdout",
     "output_type": "stream",
     "text": [
      "days amount where deaths per day > 3000: 11\n"
     ]
    },
    {
     "data": {
      "text/plain": "          dateRep  day  month  year   cases  deaths   countriesAndTerritories  \\\n2118   02/10/2020    2     10  2020   14001    3351                 Argentina   \n16908  07/09/2020    7      9  2020   -8261    3800                   Ecuador   \n37038  09/10/2020    9     10  2020    4936    3013                    Mexico   \n44888  14/08/2020   14      8  2020    9441    3935                      Peru   \n44909  24/07/2020   24      7  2020    4546    3887                      Peru   \n59007  12/12/2020   12     12  2020  234633    3343  United_States_of_America   \n59009  10/12/2020   10     12  2020  220025    3124  United_States_of_America   \n59016  03/12/2020    3     12  2020  203311    3190  United_States_of_America   \n59239  24/04/2020   24      4  2020   26543    3179  United_States_of_America   \n59245  18/04/2020   18      4  2020   30833    3770  United_States_of_America   \n59247  16/04/2020   16      4  2020   30148    4928  United_States_of_America   \n\n      countryterritoryCode  popData2019 continentExp  \n2118                   ARG   44780675.0      America  \n16908                  ECU   17373657.0      America  \n37038                  MEX  127575529.0      America  \n44888                  PER   32510462.0      America  \n44909                  PER   32510462.0      America  \n59007                  USA  329064917.0      America  \n59009                  USA  329064917.0      America  \n59016                  USA  329064917.0      America  \n59239                  USA  329064917.0      America  \n59245                  USA  329064917.0      America  \n59247                  USA  329064917.0      America  ",
      "text/html": "<div>\n<style scoped>\n    .dataframe tbody tr th:only-of-type {\n        vertical-align: middle;\n    }\n\n    .dataframe tbody tr th {\n        vertical-align: top;\n    }\n\n    .dataframe thead th {\n        text-align: right;\n    }\n</style>\n<table border=\"1\" class=\"dataframe\">\n  <thead>\n    <tr style=\"text-align: right;\">\n      <th></th>\n      <th>dateRep</th>\n      <th>day</th>\n      <th>month</th>\n      <th>year</th>\n      <th>cases</th>\n      <th>deaths</th>\n      <th>countriesAndTerritories</th>\n      <th>countryterritoryCode</th>\n      <th>popData2019</th>\n      <th>continentExp</th>\n    </tr>\n  </thead>\n  <tbody>\n    <tr>\n      <th>2118</th>\n      <td>02/10/2020</td>\n      <td>2</td>\n      <td>10</td>\n      <td>2020</td>\n      <td>14001</td>\n      <td>3351</td>\n      <td>Argentina</td>\n      <td>ARG</td>\n      <td>44780675.0</td>\n      <td>America</td>\n    </tr>\n    <tr>\n      <th>16908</th>\n      <td>07/09/2020</td>\n      <td>7</td>\n      <td>9</td>\n      <td>2020</td>\n      <td>-8261</td>\n      <td>3800</td>\n      <td>Ecuador</td>\n      <td>ECU</td>\n      <td>17373657.0</td>\n      <td>America</td>\n    </tr>\n    <tr>\n      <th>37038</th>\n      <td>09/10/2020</td>\n      <td>9</td>\n      <td>10</td>\n      <td>2020</td>\n      <td>4936</td>\n      <td>3013</td>\n      <td>Mexico</td>\n      <td>MEX</td>\n      <td>127575529.0</td>\n      <td>America</td>\n    </tr>\n    <tr>\n      <th>44888</th>\n      <td>14/08/2020</td>\n      <td>14</td>\n      <td>8</td>\n      <td>2020</td>\n      <td>9441</td>\n      <td>3935</td>\n      <td>Peru</td>\n      <td>PER</td>\n      <td>32510462.0</td>\n      <td>America</td>\n    </tr>\n    <tr>\n      <th>44909</th>\n      <td>24/07/2020</td>\n      <td>24</td>\n      <td>7</td>\n      <td>2020</td>\n      <td>4546</td>\n      <td>3887</td>\n      <td>Peru</td>\n      <td>PER</td>\n      <td>32510462.0</td>\n      <td>America</td>\n    </tr>\n    <tr>\n      <th>59007</th>\n      <td>12/12/2020</td>\n      <td>12</td>\n      <td>12</td>\n      <td>2020</td>\n      <td>234633</td>\n      <td>3343</td>\n      <td>United_States_of_America</td>\n      <td>USA</td>\n      <td>329064917.0</td>\n      <td>America</td>\n    </tr>\n    <tr>\n      <th>59009</th>\n      <td>10/12/2020</td>\n      <td>10</td>\n      <td>12</td>\n      <td>2020</td>\n      <td>220025</td>\n      <td>3124</td>\n      <td>United_States_of_America</td>\n      <td>USA</td>\n      <td>329064917.0</td>\n      <td>America</td>\n    </tr>\n    <tr>\n      <th>59016</th>\n      <td>03/12/2020</td>\n      <td>3</td>\n      <td>12</td>\n      <td>2020</td>\n      <td>203311</td>\n      <td>3190</td>\n      <td>United_States_of_America</td>\n      <td>USA</td>\n      <td>329064917.0</td>\n      <td>America</td>\n    </tr>\n    <tr>\n      <th>59239</th>\n      <td>24/04/2020</td>\n      <td>24</td>\n      <td>4</td>\n      <td>2020</td>\n      <td>26543</td>\n      <td>3179</td>\n      <td>United_States_of_America</td>\n      <td>USA</td>\n      <td>329064917.0</td>\n      <td>America</td>\n    </tr>\n    <tr>\n      <th>59245</th>\n      <td>18/04/2020</td>\n      <td>18</td>\n      <td>4</td>\n      <td>2020</td>\n      <td>30833</td>\n      <td>3770</td>\n      <td>United_States_of_America</td>\n      <td>USA</td>\n      <td>329064917.0</td>\n      <td>America</td>\n    </tr>\n    <tr>\n      <th>59247</th>\n      <td>16/04/2020</td>\n      <td>16</td>\n      <td>4</td>\n      <td>2020</td>\n      <td>30148</td>\n      <td>4928</td>\n      <td>United_States_of_America</td>\n      <td>USA</td>\n      <td>329064917.0</td>\n      <td>America</td>\n    </tr>\n  </tbody>\n</table>\n</div>"
     },
     "execution_count": 217,
     "metadata": {},
     "output_type": "execute_result"
    }
   ],
   "source": [
    "sample_: pd.DataFrame = cropped_data.loc[cropped_data.deaths > 3000]\n",
    "print('days amount where deaths per day > 3000:', len(sample_))\n",
    "sample_"
   ],
   "metadata": {
    "collapsed": false
   }
  },
  {
   "cell_type": "markdown",
   "source": [
    "# 4. Найти дублирование данных. Удалить дубликаты."
   ],
   "metadata": {
    "collapsed": false
   }
  },
  {
   "cell_type": "code",
   "execution_count": 218,
   "outputs": [
    {
     "data": {
      "text/plain": "          dateRep  day  month  year  cases  deaths countriesAndTerritories  \\\n3      12/12/2020   12     12  2020    113      11             Afghanistan   \n218    12/05/2020   12      5  2020    285       2             Afghanistan   \n48010  29/05/2020   29      5  2020      0       0             Saint_Lucia   \n48073  28/03/2020   28      3  2020      0       0             Saint_Lucia   \n\n      countryterritoryCode  popData2019 continentExp  \n3                      AFG   38041757.0         Asia  \n218                    AFG   38041757.0         Asia  \n48010                  LCA     182795.0      America  \n48073                  LCA     182795.0      America  ",
      "text/html": "<div>\n<style scoped>\n    .dataframe tbody tr th:only-of-type {\n        vertical-align: middle;\n    }\n\n    .dataframe tbody tr th {\n        vertical-align: top;\n    }\n\n    .dataframe thead th {\n        text-align: right;\n    }\n</style>\n<table border=\"1\" class=\"dataframe\">\n  <thead>\n    <tr style=\"text-align: right;\">\n      <th></th>\n      <th>dateRep</th>\n      <th>day</th>\n      <th>month</th>\n      <th>year</th>\n      <th>cases</th>\n      <th>deaths</th>\n      <th>countriesAndTerritories</th>\n      <th>countryterritoryCode</th>\n      <th>popData2019</th>\n      <th>continentExp</th>\n    </tr>\n  </thead>\n  <tbody>\n    <tr>\n      <th>3</th>\n      <td>12/12/2020</td>\n      <td>12</td>\n      <td>12</td>\n      <td>2020</td>\n      <td>113</td>\n      <td>11</td>\n      <td>Afghanistan</td>\n      <td>AFG</td>\n      <td>38041757.0</td>\n      <td>Asia</td>\n    </tr>\n    <tr>\n      <th>218</th>\n      <td>12/05/2020</td>\n      <td>12</td>\n      <td>5</td>\n      <td>2020</td>\n      <td>285</td>\n      <td>2</td>\n      <td>Afghanistan</td>\n      <td>AFG</td>\n      <td>38041757.0</td>\n      <td>Asia</td>\n    </tr>\n    <tr>\n      <th>48010</th>\n      <td>29/05/2020</td>\n      <td>29</td>\n      <td>5</td>\n      <td>2020</td>\n      <td>0</td>\n      <td>0</td>\n      <td>Saint_Lucia</td>\n      <td>LCA</td>\n      <td>182795.0</td>\n      <td>America</td>\n    </tr>\n    <tr>\n      <th>48073</th>\n      <td>28/03/2020</td>\n      <td>28</td>\n      <td>3</td>\n      <td>2020</td>\n      <td>0</td>\n      <td>0</td>\n      <td>Saint_Lucia</td>\n      <td>LCA</td>\n      <td>182795.0</td>\n      <td>America</td>\n    </tr>\n  </tbody>\n</table>\n</div>"
     },
     "execution_count": 218,
     "metadata": {},
     "output_type": "execute_result"
    }
   ],
   "source": [
    "cropped_data[cropped_data.duplicated()]"
   ],
   "metadata": {
    "collapsed": false
   }
  },
  {
   "cell_type": "code",
   "execution_count": 219,
   "outputs": [],
   "source": [
    "cropped_data.drop_duplicates(inplace=True)"
   ],
   "metadata": {
    "collapsed": false
   }
  },
  {
   "cell_type": "markdown",
   "source": [
    "# 5. Загрузить данные из файла “bmi.csv”.\n",
    "Взять оттуда две выборки. Одна выборка – это индекс массы тела людей c региона northwest,\n",
    "вторая выборка – это индекс массы тела людей с региона southwest. Сравнить средние значения\n",
    "этих выборок, используя t-критерий Стьюдента. Предварительно проверить выборки на нормальность (критерий Шопиро-Уилка)\n",
    "и на гомогенность дисперсии (критерий Бартлетта)."
   ],
   "metadata": {
    "collapsed": false
   }
  },
  {
   "cell_type": "code",
   "execution_count": 220,
   "outputs": [],
   "source": [
    "data_2 = pd.read_csv('bmi.csv', sep=',')\n",
    "data_northwest: pd.DataFrame = data_2.loc[data_2.region == 'northwest']\n",
    "data_southwest: pd.DataFrame = data_2.loc[data_2.region == 'southwest']"
   ],
   "metadata": {
    "collapsed": false
   }
  },
  {
   "cell_type": "code",
   "execution_count": 221,
   "outputs": [],
   "source": [
    "import scipy.stats as sts"
   ],
   "metadata": {
    "collapsed": false
   }
  },
  {
   "cell_type": "code",
   "execution_count": 222,
   "outputs": [
    {
     "name": "stdout",
     "output_type": "stream",
     "text": [
      "ShapiroResult(statistic=0.9726725220680237, pvalue=0.713208019733429) - имеет нормальное распределение\n",
      "ShapiroResult(statistic=0.9702517986297607, pvalue=0.6514624357223511) - имеет нормальное распределение\n",
      "BartlettResult(statistic=0.43438345820190155, pvalue=0.5098458535854744) - дисперсии выборок примерно одинаковы\n",
      "Ttest_indResult(statistic=0.34495630080069956, pvalue=0.7316342479053869) - выборки принадлежат одной генеральной совокупности\n"
     ]
    }
   ],
   "source": [
    "n = 25\n",
    "sample_nw = data_northwest.sample(n=n)\n",
    "sample_sw = data_southwest.sample(n=n)\n",
    "res_nw = sts.shapiro(sample_nw.bmi)\n",
    "res_sw = sts.shapiro(sample_sw.bmi)\n",
    "print(res_nw, '- имеет нормальное распределение' if res_nw.pvalue > 0.05 else 'не имеет нормального распределения')\n",
    "print(res_sw, '- имеет нормальное распределение' if res_nw.pvalue > 0.05 else 'не имеет нормального распределения')\n",
    "res = sts.bartlett(sample_nw.bmi, sample_sw.bmi)\n",
    "print(res, '- дисперсии выборок примерно одинаковы' if res.pvalue > 0.05 else 'дисперсии выборок различны')\n",
    "t_res = sts.ttest_ind(sample_nw.bmi, sample_sw.bmi)\n",
    "print(t_res, '- выборки принадлежат одной генеральной совокупности' if t_res.pvalue > 0.05 else 'выборки не принадлежат одной генеральной совокупности')"
   ],
   "metadata": {
    "collapsed": false
   }
  },
  {
   "cell_type": "markdown",
   "source": [
    "# 6. Кубик бросили 600 раз, получили следующие результаты:\n",
    "| N   | Количество <br/>выпадений |\n",
    "|:----|--------------------------:|\n",
    "| 1   |                        97 |\n",
    "| 2   |                        98 |\n",
    "| 3   |                       109 |\n",
    "| 4   |                        95 |\n",
    "| 5   |                        97 |\n",
    "| 6   |                       104 |\n",
    "\n",
    "С помощью критерия Хи-квадрат проверить, является ли полученное распределение равномерным. Использовать функцию scipy.stats.chisquare()."
   ],
   "metadata": {
    "collapsed": false
   }
  },
  {
   "cell_type": "code",
   "execution_count": 223,
   "outputs": [
    {
     "data": {
      "text/plain": "   points  observed  expected\n0       1        97       100\n1       2        98       100\n2       3       109       100\n3       4        95       100\n4       5        97       100\n5       6       104       100",
      "text/html": "<div>\n<style scoped>\n    .dataframe tbody tr th:only-of-type {\n        vertical-align: middle;\n    }\n\n    .dataframe tbody tr th {\n        vertical-align: top;\n    }\n\n    .dataframe thead th {\n        text-align: right;\n    }\n</style>\n<table border=\"1\" class=\"dataframe\">\n  <thead>\n    <tr style=\"text-align: right;\">\n      <th></th>\n      <th>points</th>\n      <th>observed</th>\n      <th>expected</th>\n    </tr>\n  </thead>\n  <tbody>\n    <tr>\n      <th>0</th>\n      <td>1</td>\n      <td>97</td>\n      <td>100</td>\n    </tr>\n    <tr>\n      <th>1</th>\n      <td>2</td>\n      <td>98</td>\n      <td>100</td>\n    </tr>\n    <tr>\n      <th>2</th>\n      <td>3</td>\n      <td>109</td>\n      <td>100</td>\n    </tr>\n    <tr>\n      <th>3</th>\n      <td>4</td>\n      <td>95</td>\n      <td>100</td>\n    </tr>\n    <tr>\n      <th>4</th>\n      <td>5</td>\n      <td>97</td>\n      <td>100</td>\n    </tr>\n    <tr>\n      <th>5</th>\n      <td>6</td>\n      <td>104</td>\n      <td>100</td>\n    </tr>\n  </tbody>\n</table>\n</div>"
     },
     "execution_count": 223,
     "metadata": {},
     "output_type": "execute_result"
    }
   ],
   "source": [
    "D = pd.DataFrame({'points': [1, 2, 3, 4, 5, 6],'observed':[97, 98, 109, 95, 97, 104], })\n",
    "D['expected'] = 100\n",
    "D"
   ],
   "metadata": {
    "collapsed": false
   }
  },
  {
   "cell_type": "code",
   "execution_count": 224,
   "outputs": [
    {
     "name": "stdout",
     "output_type": "stream",
     "text": [
      "Power_divergenceResult(statistic=1.44, pvalue=0.9198882077437889) - распределение является равномерным\n"
     ]
    }
   ],
   "source": [
    "x_res = sts.chisquare(D.observed, D.expected)\n",
    "print(x_res, '- распределение является равномерным' if t_res.pvalue > 0.05 else 'распределение не является равномерным')"
   ],
   "metadata": {
    "collapsed": false
   }
  },
  {
   "cell_type": "markdown",
   "source": [
    "# 7. С помощью критерия Хи-квадрат проверить, являются ли переменные зависимыми.\n",
    "Создать дата фрейм, используя следующий код:\n",
    "data = pd.DataFrame({\n",
    "    'Женат': [89,17,11,43,22,1],\n",
    "    'Гражданский брак': [80,22,20,35,6,4],\n",
    "    'Не состоит в отношениях': [35,44,35,6,8,22]\n",
    "})\n",
    "data.index = ['Полный рабочий день','Частичная занятость','Временно не работает','На домохозяйстве','На пенсии','Учёба']\n",
    "Использовать функцию scipy.stats.chi2_contingency().\n",
    "Влияет ли семейное положение на занятость?"
   ],
   "metadata": {
    "collapsed": false
   }
  },
  {
   "cell_type": "code",
   "execution_count": 225,
   "outputs": [
    {
     "data": {
      "text/plain": "                      Женат  Гражданский брак  Не состоит в отношениях\nПолный рабочий день      89                80                       35\nЧастичная занятость      17                22                       44\nВременно не работает     11                20                       35\nНа домохозяйстве         43                35                        6\nНа пенсии                22                 6                        8\nУчёба                     1                 4                       22",
      "text/html": "<div>\n<style scoped>\n    .dataframe tbody tr th:only-of-type {\n        vertical-align: middle;\n    }\n\n    .dataframe tbody tr th {\n        vertical-align: top;\n    }\n\n    .dataframe thead th {\n        text-align: right;\n    }\n</style>\n<table border=\"1\" class=\"dataframe\">\n  <thead>\n    <tr style=\"text-align: right;\">\n      <th></th>\n      <th>Женат</th>\n      <th>Гражданский брак</th>\n      <th>Не состоит в отношениях</th>\n    </tr>\n  </thead>\n  <tbody>\n    <tr>\n      <th>Полный рабочий день</th>\n      <td>89</td>\n      <td>80</td>\n      <td>35</td>\n    </tr>\n    <tr>\n      <th>Частичная занятость</th>\n      <td>17</td>\n      <td>22</td>\n      <td>44</td>\n    </tr>\n    <tr>\n      <th>Временно не работает</th>\n      <td>11</td>\n      <td>20</td>\n      <td>35</td>\n    </tr>\n    <tr>\n      <th>На домохозяйстве</th>\n      <td>43</td>\n      <td>35</td>\n      <td>6</td>\n    </tr>\n    <tr>\n      <th>На пенсии</th>\n      <td>22</td>\n      <td>6</td>\n      <td>8</td>\n    </tr>\n    <tr>\n      <th>Учёба</th>\n      <td>1</td>\n      <td>4</td>\n      <td>22</td>\n    </tr>\n  </tbody>\n</table>\n</div>"
     },
     "execution_count": 225,
     "metadata": {},
     "output_type": "execute_result"
    }
   ],
   "source": [
    "D_2 = pd.DataFrame({\n",
    "    'Женат': [89,17,11,43,22,1],\n",
    "    'Гражданский брак': [80,22,20,35,6,4],\n",
    "    'Не состоит в отношениях': [35,44,35,6,8,22]\n",
    "})\n",
    "D_2.index = ['Полный рабочий день','Частичная занятость','Временно не работает','На домохозяйстве','На пенсии','Учёба']\n",
    "D_2"
   ],
   "metadata": {
    "collapsed": false
   }
  },
  {
   "cell_type": "code",
   "execution_count": 226,
   "outputs": [
    {
     "name": "stdout",
     "output_type": "stream",
     "text": [
      "(122.29654948595365, 1.7291616900960234e-21, 10) - переменные являются зависимыми\n"
     ]
    }
   ],
   "source": [
    "x2_res = sts.chi2_contingency(D_2)[:3]\n",
    "print(x2_res, '- переменные являются зависимыми' if x2_res[1] < 0.05 else 'переменные не являются зависимыми')"
   ],
   "metadata": {
    "collapsed": false
   }
  }
 ],
 "metadata": {
  "kernelspec": {
   "display_name": "Python 3",
   "language": "python",
   "name": "python3"
  },
  "language_info": {
   "codemirror_mode": {
    "name": "ipython",
    "version": 2
   },
   "file_extension": ".py",
   "mimetype": "text/x-python",
   "name": "python",
   "nbconvert_exporter": "python",
   "pygments_lexer": "ipython2",
   "version": "2.7.6"
  }
 },
 "nbformat": 4,
 "nbformat_minor": 0
}
